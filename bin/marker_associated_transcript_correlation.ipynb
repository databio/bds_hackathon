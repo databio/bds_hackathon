{
 "cells": [
  {
   "cell_type": "code",
   "execution_count": 2,
   "metadata": {
    "collapsed": true
   },
   "outputs": [],
   "source": [
    "import pandas as pd\n",
    "from scipy import stats"
   ]
  },
  {
   "cell_type": "code",
   "execution_count": 20,
   "metadata": {
    "collapsed": true
   },
   "outputs": [],
   "source": [
    "# Load the counts matrix\n",
    "counts_file = '../data/GSE100866_CBMC_8K_13AB_10X-RNA_umi.csv'\n",
    "counts = pd.read_csv(counts_file,sep=',',index_col=0)\n",
    "# rows are gene IDs, columns are cell barcodes\n"
   ]
  },
  {
   "cell_type": "code",
   "execution_count": 25,
   "metadata": {
    "collapsed": true
   },
   "outputs": [],
   "source": [
    "# determine sample labels\n",
    "labels_file = '../data/GSE100866_CBMC_8K_13AB_10X-ADT_clr-transformed.csv'\n",
    "labels = pd.read_csv(labels_file,sep=',',index_col=0)\n",
    "# rows are cell surface markers, columns are cell barcodes"
   ]
  },
  {
   "cell_type": "code",
   "execution_count": 28,
   "metadata": {
    "collapsed": false
   },
   "outputs": [
    {
     "data": {
      "text/plain": [
       "Index(['CD3', 'CD4', 'CD8', 'CD45RA', 'CD56', 'CD16', 'CD10', 'CD11c', 'CD14',\n",
       "       'CD19', 'CD34', 'CCR5', 'CCR7'],\n",
       "      dtype='object')"
      ]
     },
     "execution_count": 28,
     "metadata": {},
     "output_type": "execute_result"
    }
   ],
   "source": [
    "# extract the gene IDs relevant to each cell surface marker\n",
    "gene_ids = counts.index\n",
    "# try to find genes that contain marker names\n",
    "marker_names = labels.index\n",
    "marker_names"
   ]
  },
  {
   "cell_type": "code",
   "execution_count": 41,
   "metadata": {
    "collapsed": false
   },
   "outputs": [],
   "source": [
    "# find exact matches first\n",
    "marker_to_genes = {}\n",
    "for marker in marker_names:\n",
    "    marker_to_genes[marker] = []\n",
    "    for gene_id in gene_ids:\n",
    "        if gene_id == 'HUMAN_' + marker:\n",
    "            marker_to_genes[marker].append(gene_id)"
   ]
  },
  {
   "cell_type": "code",
   "execution_count": 42,
   "metadata": {
    "collapsed": false
   },
   "outputs": [
    {
     "data": {
      "text/plain": [
       "{'CCR5': ['HUMAN_CCR5'],\n",
       " 'CCR7': ['HUMAN_CCR7'],\n",
       " 'CD10': [],\n",
       " 'CD11c': [],\n",
       " 'CD14': ['HUMAN_CD14'],\n",
       " 'CD16': [],\n",
       " 'CD19': ['HUMAN_CD19'],\n",
       " 'CD3': [],\n",
       " 'CD34': ['HUMAN_CD34'],\n",
       " 'CD4': ['HUMAN_CD4'],\n",
       " 'CD45RA': [],\n",
       " 'CD56': [],\n",
       " 'CD8': []}"
      ]
     },
     "execution_count": 42,
     "metadata": {},
     "output_type": "execute_result"
    }
   ],
   "source": [
    "marker_to_genes"
   ]
  },
  {
   "cell_type": "code",
   "execution_count": 43,
   "metadata": {
    "collapsed": true
   },
   "outputs": [],
   "source": [
    "# for markers that didn't have an exact match, search for partial matches\n",
    "partial_matches = {}\n",
    "for marker in marker_to_genes.keys():\n",
    "    if not marker_to_genes[marker]: # if the list is empty\n",
    "        partial_matches[marker] = []\n",
    "        for gene_id in gene_ids:\n",
    "            if gene_id.find(marker) > -1:\n",
    "                partial_matches[marker].append(gene_id)"
   ]
  },
  {
   "cell_type": "code",
   "execution_count": 44,
   "metadata": {
    "collapsed": false
   },
   "outputs": [
    {
     "data": {
      "text/plain": [
       "{'CD10': ['HUMAN_CD101', 'HUMAN_CD109', 'HUMAN_PDCD10'],\n",
       " 'CD11c': [],\n",
       " 'CD16': ['HUMAN_CD160', 'HUMAN_CD163', 'HUMAN_CD163L1', 'HUMAN_CD164'],\n",
       " 'CD3': ['HUMAN_ABCD3',\n",
       "  'HUMAN_C2CD3',\n",
       "  'HUMAN_CD300A',\n",
       "  'HUMAN_CD300C',\n",
       "  'HUMAN_CD300E',\n",
       "  'HUMAN_CD300LB',\n",
       "  'HUMAN_CD300LD',\n",
       "  'HUMAN_CD300LF',\n",
       "  'HUMAN_CD302',\n",
       "  'HUMAN_CD320',\n",
       "  'HUMAN_CD33',\n",
       "  'HUMAN_CD34',\n",
       "  'HUMAN_CD36',\n",
       "  'HUMAN_CD37',\n",
       "  'HUMAN_CD38',\n",
       "  'HUMAN_CD3D',\n",
       "  'HUMAN_CD3E',\n",
       "  'HUMAN_CD3EAP',\n",
       "  'HUMAN_CD3G',\n",
       "  'HUMAN_NUDCD3',\n",
       "  'HUMAN_PLCD3',\n",
       "  'HUMAN_PTCD3',\n",
       "  'HUMAN_SMARCD3'],\n",
       " 'CD45RA': [],\n",
       " 'CD56': [],\n",
       " 'CD8': ['HUMAN_CD81',\n",
       "  'HUMAN_CD82',\n",
       "  'HUMAN_CD83',\n",
       "  'HUMAN_CD84',\n",
       "  'HUMAN_CD86',\n",
       "  'HUMAN_CD8A',\n",
       "  'HUMAN_CD8B']}"
      ]
     },
     "execution_count": 44,
     "metadata": {},
     "output_type": "execute_result"
    }
   ],
   "source": [
    "partial_matches"
   ]
  },
  {
   "cell_type": "code",
   "execution_count": 79,
   "metadata": {
    "collapsed": false
   },
   "outputs": [],
   "source": [
    "# Based on the partial matches, define a dictionary with correct mappings\n",
    "# Also include results from a manual search for synonyms\n",
    "additional_mappings = {\\\n",
    "    'CD3':['HUMAN_CD3D','HUMAN_CD3E','HUMAN_CD3EAP','HUMAN_CD3G'],\\\n",
    "    'CD8':['HUMAN_CD8A','HUMAN_CD8B'],\\\n",
    "    'CD10':['HUMAN_MME'],\\\n",
    "    'CD11c':['HUMAN_ITGAX'],\\\n",
    "    'CD16':['HUMAN_FCGR3A','HUMAN_FCGR3B'],\\\n",
    "    'CD45RA':['HUMAN_PTPRC'],\\\n",
    "    'CD56':['HUMAN_NCAM1']\n",
    "    }"
   ]
  },
  {
   "cell_type": "code",
   "execution_count": 80,
   "metadata": {
    "collapsed": false
   },
   "outputs": [],
   "source": [
    "# combine the exact matches and the manually-inferred mappings\n",
    "final_gene_mappings = marker_to_genes.copy()\n",
    "for gene_id in additional_mappings:\n",
    "    final_gene_mappings[gene_id] = additional_mappings[gene_id]"
   ]
  },
  {
   "cell_type": "code",
   "execution_count": 81,
   "metadata": {
    "collapsed": false
   },
   "outputs": [
    {
     "data": {
      "text/plain": [
       "{'CCR5': ['HUMAN_CCR5'],\n",
       " 'CCR7': ['HUMAN_CCR7'],\n",
       " 'CD10': ['HUMAN_MME'],\n",
       " 'CD11c': ['HUMAN_ITGAX'],\n",
       " 'CD14': ['HUMAN_CD14'],\n",
       " 'CD16': ['HUMAN_FCGR3A', 'HUMAN_FCGR3B'],\n",
       " 'CD19': ['HUMAN_CD19'],\n",
       " 'CD3': ['HUMAN_CD3D', 'HUMAN_CD3E', 'HUMAN_CD3EAP', 'HUMAN_CD3G'],\n",
       " 'CD34': ['HUMAN_CD34'],\n",
       " 'CD4': ['HUMAN_CD4'],\n",
       " 'CD45RA': ['HUMAN_PTPRC'],\n",
       " 'CD56': ['HUMAN_NCAM1'],\n",
       " 'CD8': ['HUMAN_CD8A', 'HUMAN_CD8B']}"
      ]
     },
     "execution_count": 81,
     "metadata": {},
     "output_type": "execute_result"
    }
   ],
   "source": [
    "final_gene_mappings"
   ]
  },
  {
   "cell_type": "code",
   "execution_count": 85,
   "metadata": {
    "collapsed": false
   },
   "outputs": [
    {
     "data": {
      "text/plain": [
       "0.031343299977977974"
      ]
     },
     "execution_count": 85,
     "metadata": {},
     "output_type": "execute_result"
    }
   ],
   "source": [
    "result."
   ]
  },
  {
   "cell_type": "code",
   "execution_count": 86,
   "metadata": {
    "collapsed": false
   },
   "outputs": [
    {
     "name": "stdout",
     "output_type": "stream",
     "text": [
      "CD8 HUMAN_CD8A SpearmanrResult(correlation=0.29397115374973276, pvalue=2.4173502593926323e-171)\n",
      "CD8 HUMAN_CD8B SpearmanrResult(correlation=0.23940434544299147, pvalue=1.3790114474641316e-112)\n",
      "CD4 HUMAN_CD4 SpearmanrResult(correlation=0.14495126756819499, pvalue=1.1128440454761501e-41)\n",
      "CD10 HUMAN_MME SpearmanrResult(correlation=0.029175518788739703, pvalue=0.0067591620564750312)\n",
      "CD56 HUMAN_NCAM1 SpearmanrResult(correlation=0.13419997884680551, pvalue=6.3932469655013789e-36)\n",
      "CD11c HUMAN_ITGAX SpearmanrResult(correlation=0.21078745385343306, pvalue=3.8679515038378114e-87)\n",
      "CCR7 HUMAN_CCR7 SpearmanrResult(correlation=0.1079040938314365, pvalue=9.7253502445044284e-24)\n",
      "CD34 HUMAN_CD34 SpearmanrResult(correlation=0.17102933855357061, pvalue=1.4544562782908765e-57)\n",
      "CD19 HUMAN_CD19 SpearmanrResult(correlation=0.17958120995540811, pvalue=2.2624339130823561e-63)\n",
      "CD3 HUMAN_CD3D SpearmanrResult(correlation=0.62326263492201817, pvalue=0.0)\n",
      "CD3 HUMAN_CD3E SpearmanrResult(correlation=0.63536511124003303, pvalue=0.0)\n",
      "CD3 HUMAN_CD3EAP SpearmanrResult(correlation=0.012720732908186696, pvalue=0.23771632594119635)\n",
      "CD3 HUMAN_CD3G SpearmanrResult(correlation=0.48432652594856757, pvalue=0.0)\n",
      "CD14 HUMAN_CD14 SpearmanrResult(correlation=0.40577523565359847, pvalue=0.0)\n",
      "CD45RA HUMAN_PTPRC SpearmanrResult(correlation=0.052527245624673931, pvalue=1.0681491082610439e-06)\n",
      "CD16 HUMAN_FCGR3A SpearmanrResult(correlation=0.49052392350288132, pvalue=0.0)\n",
      "CD16 HUMAN_FCGR3B SpearmanrResult(correlation=0.087633216944107903, pvalue=3.660382695607334e-16)\n",
      "CCR5 HUMAN_CCR5 SpearmanrResult(correlation=0.031343299977977974, pvalue=0.0036163432755362541)\n"
     ]
    }
   ],
   "source": [
    "# for each marker and associated gene_id, perform pearson correlation\n",
    "# between the two.\n",
    "correlation_results = {}\n",
    "for marker in final_gene_mappings.keys():\n",
    "    # get the value of marker gene from each cell\n",
    "    marker_values = labels.loc[marker,]\n",
    "    for gene_id in final_gene_mappings[marker]:\n",
    "        gene_counts = counts.loc[gene_id,]\n",
    "        result = stats.spearmanr(a=gene_counts, b=marker_values, axis=0)\n",
    "        print(marker,gene_id,result)\n",
    "        correlation_results[gene_id] = {'ADT_marker':marker,'correlation':result.correlation,'pvalue':result.pvalue}\n",
    "        "
   ]
  },
  {
   "cell_type": "code",
   "execution_count": 87,
   "metadata": {
    "collapsed": false
   },
   "outputs": [
    {
     "data": {
      "text/html": [
       "<div>\n",
       "<style>\n",
       "    .dataframe thead tr:only-child th {\n",
       "        text-align: right;\n",
       "    }\n",
       "\n",
       "    .dataframe thead th {\n",
       "        text-align: left;\n",
       "    }\n",
       "\n",
       "    .dataframe tbody tr th {\n",
       "        vertical-align: top;\n",
       "    }\n",
       "</style>\n",
       "<table border=\"1\" class=\"dataframe\">\n",
       "  <thead>\n",
       "    <tr style=\"text-align: right;\">\n",
       "      <th></th>\n",
       "      <th>HUMAN_CCR5</th>\n",
       "      <th>HUMAN_CCR7</th>\n",
       "      <th>HUMAN_CD14</th>\n",
       "      <th>HUMAN_CD19</th>\n",
       "      <th>HUMAN_CD34</th>\n",
       "      <th>HUMAN_CD3D</th>\n",
       "      <th>HUMAN_CD3E</th>\n",
       "      <th>HUMAN_CD3EAP</th>\n",
       "      <th>HUMAN_CD3G</th>\n",
       "      <th>HUMAN_CD4</th>\n",
       "      <th>HUMAN_CD8A</th>\n",
       "      <th>HUMAN_CD8B</th>\n",
       "      <th>HUMAN_FCGR3A</th>\n",
       "      <th>HUMAN_FCGR3B</th>\n",
       "      <th>HUMAN_ITGAX</th>\n",
       "      <th>HUMAN_MME</th>\n",
       "      <th>HUMAN_NCAM1</th>\n",
       "      <th>HUMAN_PTPRC</th>\n",
       "    </tr>\n",
       "  </thead>\n",
       "  <tbody>\n",
       "    <tr>\n",
       "      <th>ADT_marker</th>\n",
       "      <td>CCR5</td>\n",
       "      <td>CCR7</td>\n",
       "      <td>CD14</td>\n",
       "      <td>CD19</td>\n",
       "      <td>CD34</td>\n",
       "      <td>CD3</td>\n",
       "      <td>CD3</td>\n",
       "      <td>CD3</td>\n",
       "      <td>CD3</td>\n",
       "      <td>CD4</td>\n",
       "      <td>CD8</td>\n",
       "      <td>CD8</td>\n",
       "      <td>CD16</td>\n",
       "      <td>CD16</td>\n",
       "      <td>CD11c</td>\n",
       "      <td>CD10</td>\n",
       "      <td>CD56</td>\n",
       "      <td>CD45RA</td>\n",
       "    </tr>\n",
       "    <tr>\n",
       "      <th>correlation</th>\n",
       "      <td>0.0313433</td>\n",
       "      <td>0.107904</td>\n",
       "      <td>0.405775</td>\n",
       "      <td>0.179581</td>\n",
       "      <td>0.171029</td>\n",
       "      <td>0.623263</td>\n",
       "      <td>0.635365</td>\n",
       "      <td>0.0127207</td>\n",
       "      <td>0.484327</td>\n",
       "      <td>0.144951</td>\n",
       "      <td>0.293971</td>\n",
       "      <td>0.239404</td>\n",
       "      <td>0.490524</td>\n",
       "      <td>0.0876332</td>\n",
       "      <td>0.210787</td>\n",
       "      <td>0.0291755</td>\n",
       "      <td>0.1342</td>\n",
       "      <td>0.0525272</td>\n",
       "    </tr>\n",
       "    <tr>\n",
       "      <th>pvalue</th>\n",
       "      <td>0.00361634</td>\n",
       "      <td>9.72535e-24</td>\n",
       "      <td>0</td>\n",
       "      <td>2.26243e-63</td>\n",
       "      <td>1.45446e-57</td>\n",
       "      <td>0</td>\n",
       "      <td>0</td>\n",
       "      <td>0.237716</td>\n",
       "      <td>0</td>\n",
       "      <td>1.11284e-41</td>\n",
       "      <td>2.41735e-171</td>\n",
       "      <td>1.37901e-112</td>\n",
       "      <td>0</td>\n",
       "      <td>3.66038e-16</td>\n",
       "      <td>3.86795e-87</td>\n",
       "      <td>0.00675916</td>\n",
       "      <td>6.39325e-36</td>\n",
       "      <td>1.06815e-06</td>\n",
       "    </tr>\n",
       "  </tbody>\n",
       "</table>\n",
       "</div>"
      ],
      "text/plain": [
       "             HUMAN_CCR5   HUMAN_CCR7 HUMAN_CD14   HUMAN_CD19   HUMAN_CD34  \\\n",
       "ADT_marker         CCR5         CCR7       CD14         CD19         CD34   \n",
       "correlation   0.0313433     0.107904   0.405775     0.179581     0.171029   \n",
       "pvalue       0.00361634  9.72535e-24          0  2.26243e-63  1.45446e-57   \n",
       "\n",
       "            HUMAN_CD3D HUMAN_CD3E HUMAN_CD3EAP HUMAN_CD3G    HUMAN_CD4  \\\n",
       "ADT_marker         CD3        CD3          CD3        CD3          CD4   \n",
       "correlation   0.623263   0.635365    0.0127207   0.484327     0.144951   \n",
       "pvalue               0          0     0.237716          0  1.11284e-41   \n",
       "\n",
       "               HUMAN_CD8A    HUMAN_CD8B HUMAN_FCGR3A HUMAN_FCGR3B  \\\n",
       "ADT_marker            CD8           CD8         CD16         CD16   \n",
       "correlation      0.293971      0.239404     0.490524    0.0876332   \n",
       "pvalue       2.41735e-171  1.37901e-112            0  3.66038e-16   \n",
       "\n",
       "             HUMAN_ITGAX   HUMAN_MME  HUMAN_NCAM1  HUMAN_PTPRC  \n",
       "ADT_marker         CD11c        CD10         CD56       CD45RA  \n",
       "correlation     0.210787   0.0291755       0.1342    0.0525272  \n",
       "pvalue       3.86795e-87  0.00675916  6.39325e-36  1.06815e-06  "
      ]
     },
     "execution_count": 87,
     "metadata": {},
     "output_type": "execute_result"
    }
   ],
   "source": [
    "correlation_results_frame = pd.DataFrame(correlation_results)"
   ]
  },
  {
   "cell_type": "code",
   "execution_count": null,
   "metadata": {
    "collapsed": true
   },
   "outputs": [],
   "source": [
    "# save the correlation results\n",
    "correlation_results_frame"
   ]
  }
 ],
 "metadata": {
  "kernelspec": {
   "display_name": "Python 3",
   "language": "python",
   "name": "python3"
  },
  "language_info": {
   "codemirror_mode": {
    "name": "ipython",
    "version": 3
   },
   "file_extension": ".py",
   "mimetype": "text/x-python",
   "name": "python",
   "nbconvert_exporter": "python",
   "pygments_lexer": "ipython3",
   "version": "3.5.2"
  }
 },
 "nbformat": 4,
 "nbformat_minor": 2
}
